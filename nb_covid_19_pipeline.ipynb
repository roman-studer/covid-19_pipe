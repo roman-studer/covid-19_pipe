{
 "cells": [
  {
   "cell_type": "markdown",
   "metadata": {},
   "source": [
    "# MC - Covid-19 Data preparation"
   ]
  },
  {
   "cell_type": "markdown",
   "metadata": {},
   "source": [
    "Task description: https://ds-spaces.technik.fhnw.ch/app/uploads/sites/82/2020/09/minichallenge_covid19.pdf\n",
    "\n",
    "Author: Roman Janic Studer\n",
    "\n",
    "Data Pipeline Concept: https://en.wikipedia.org/wiki/Pipeline_(computing) (Zustandsänderung, Konfigurierbarkeit!)"
   ]
  },
  {
   "cell_type": "markdown",
   "metadata": {},
   "source": [
    "## Procedure"
   ]
  },
  {
   "cell_type": "markdown",
   "metadata": {},
   "source": [
    "1. [x] Create function for daily data pull\n",
    "2. [x] Drop unneccesary data\n",
    "3. [x] Clean data (tidy data principe)\n",
    "4. [X] Prepare data for visualization (aggregation maybe)\n",
    "5. [x] Return global and local dataframe\n",
    "6. [x] Create visualization (plotly) for global and local data (barplots incl. moving average e. g. srf.ch and linecharts)\n",
    "7. [x] Document process and code\n",
    "\n",
    "Steps 1 to 5 should function as a data preparation pipeline"
   ]
  },
  {
   "cell_type": "raw",
   "metadata": {},
   "source": [
    "Zahlen, die täglich pro Land geliefert werden sollen:\n",
    "\n",
    "[x] total bestätigte Fälle pro Land seit Anfang der Epidemie\n",
    "[x] neue bestätigte Fälle pro Land seit Anfang der Epidemie\n",
    "[x] total bestätigte Todesfälle pro Land seit Anfang der Epidemie\n",
    "[x] neue bestätigte Todesfälle pro Land seit Anfang der Epidemie\n",
    "\n",
    "Zahlen, die täglich pro Kanton geliefert werden sollen:\n",
    "\n",
    "[x] total bestätigte Fälle pro Kanton seit 1. Juni 2020 (Beginn 2. Welle)\n",
    "[x] neue bestätigte Fälle pro Kanton seit 1. Juni 2020\n",
    "[x] total bestätigte Todesfälle pro Kanton seit 1. Juni 2020\n",
    "[x] neue bestätigte Todesfälle pro Kanton seit 1. Juni 2020"
   ]
  },
  {
   "cell_type": "code",
   "execution_count": 72,
   "metadata": {},
   "outputs": [],
   "source": [
    "# TODO: Anderes Dataset verwenden (daily reports)\n",
    "# Datasource local = https://github.com/daenuprobst/covid19-cases-switzerland\n",
    "# Datasource global = https://github.com/CSSEGISandData/COVID-19\n",
    "\n",
    "# Imports\n",
    "import pandas as pd\n",
    "from datetime import date, timedelta\n",
    "from pandas.plotting import autocorrelation_plot\n",
    "from matplotlib import pyplot\n",
    "from statsmodels.tsa.arima_model import ARIMA\n",
    "import numpy as np\n",
    "from sklearn.metrics import mean_squared_error"
   ]
  },
  {
   "cell_type": "markdown",
   "metadata": {},
   "source": [
    "## get_data()\n",
    "This function pulls 4 dataframes from two github repositories. Two dataframes from the John Hopkins University containing the daily total cases and total fatalities of Covid-19 from every country, and two from the covid19-cases-switzerland repository from David Probst containing daily total cases and total fatalities of Covid-19 from every Canton in Switzerland. The function utilises the `pandas.read_csv()` function and pulls the data directly via an URL to the raw data. It returns a List of DataFrames."
   ]
  },
  {
   "cell_type": "code",
   "execution_count": 2,
   "metadata": {},
   "outputs": [],
   "source": [
    "def get_data():\n",
    "    \"\"\"\n",
    "    Pulls latest data from sources\n",
    "    :return df_global: Dataframe containg current Covid-19 Data from John Hopkins University\n",
    "    :return df_CH_cases: Daily new cases in Switzerland\n",
    "    :return df_CH_fatal: Daily new fatalities in Switzerland\n",
    "    \"\"\"\n",
    "    \n",
    "    # Get most recent data from john hopkins\n",
    "    df_global_daily_cases = pd.read_csv('https://raw.githubusercontent.com/CSSEGISandData/COVID-19/master/csse_covid_19_data/csse_covid_19_time_series/time_series_covid19_confirmed_global.csv')    \n",
    "    df_global_daily_fatal = pd.read_csv('https://raw.githubusercontent.com/CSSEGISandData/COVID-19/master/csse_covid_19_data/csse_covid_19_time_series/time_series_covid19_deaths_global.csv')\n",
    "    \n",
    "    # Get most recent data from covid19-cases-switzerland\n",
    "    df_CH_cases = pd.read_csv('https://raw.githubusercontent.com/daenuprobst/covid19-cases-switzerland/master/covid19_cases_switzerland_openzh-phase2.csv')\n",
    "    df_CH_fatal = pd.read_csv('https://raw.githubusercontent.com/daenuprobst/covid19-cases-switzerland/master/covid19_fatalities_switzerland_openzh-phase2.csv')\n",
    "        \n",
    "    return [df_global_daily_cases, df_global_daily_fatal, df_CH_cases, df_CH_fatal]"
   ]
  },
  {
   "cell_type": "markdown",
   "metadata": {},
   "source": [
    "## drop_columns()\n",
    "Muliple columns are not necessary for the data visualization and get dropped with `pandas.DataFrame.drop()`."
   ]
  },
  {
   "cell_type": "code",
   "execution_count": 3,
   "metadata": {},
   "outputs": [],
   "source": [
    "def drop_columns(dfs):\n",
    "    \"\"\"\n",
    "    Drops columns in list of dataframes if column name is in columns\n",
    "    :param dfs: Lisst of dataframes\n",
    "    :return dfs: List of dataframes\n",
    "    \"\"\"\n",
    "    DROP_COLUMNS = ['FIPS','Admin2','Province_State','Recovered','Combined_Key',\n",
    "                'Incidence_Rate','Case-Fatality_Ratio', 'Province/State', 'Last_Update', 'Long','Lat']\n",
    "    \n",
    "    for df in dfs:\n",
    "        columns = df.columns.intersection(DROP_COLUMNS) # get list of columns to drop\n",
    "        df.drop(columns=columns, inplace=True)\n",
    "    return dfs"
   ]
  },
  {
   "cell_type": "markdown",
   "metadata": {},
   "source": [
    "## rename()\n",
    "To get more uniform data and therefore less complication in later processes, it is useful to rename columns to have uniform names."
   ]
  },
  {
   "cell_type": "code",
   "execution_count": 4,
   "metadata": {},
   "outputs": [],
   "source": [
    "def rename(dfs):\n",
    "    \"\"\"\n",
    "    Rename Columns with same information to get uniform columns across dataframes (easier down the line)\n",
    "    :param dfs: List of dataframes\n",
    "    :return dfs: List of dataframes with equal column names\n",
    "    \"\"\"\n",
    "    for df in dfs:\n",
    "        if 'Country_Region' in df.columns or 'Country/Region' in df.columns:\n",
    "            df.rename({'Country_Region':'country',\n",
    "                       'Country/Region':'country'}, inplace=True, axis=1)\n",
    "        if 'Date' in df.columns:\n",
    "            df.rename({'Date':'date'}, inplace=True, axis=1)\n",
    "    return dfs"
   ]
  },
  {
   "cell_type": "markdown",
   "metadata": {},
   "source": [
    "## drop_nan()\n",
    "Drops empty rows"
   ]
  },
  {
   "cell_type": "code",
   "execution_count": 5,
   "metadata": {},
   "outputs": [],
   "source": [
    "def drop_nan(dfs):\n",
    "    \"\"\"\n",
    "    Drops empty rows\n",
    "    :param dfs: Lisst of dataframes\n",
    "    :return dfs: List of dataframes without NAN rows\n",
    "    \"\"\"\n",
    "    for df in dfs:\n",
    "        df.dropna(how='all', inplace=True)\n",
    "    return dfs"
   ]
  },
  {
   "cell_type": "markdown",
   "metadata": {},
   "source": [
    "## groupby_country()\n",
    "The two DataFrames of John Hopkins University have countries that occur several times because they have been divided into provinces/states. For example, the USA occurs several times because its numbers are given per state. These numbers can be summed up to get only one line for each country."
   ]
  },
  {
   "cell_type": "code",
   "execution_count": 6,
   "metadata": {},
   "outputs": [],
   "source": [
    "def groupby_country(dfs):\n",
    "    \"\"\"\n",
    "    Group data by Country or. Canton\n",
    "    :param dfs: List of dataframes\n",
    "    :return dfs: List of dataframes all grouped by country or Canton\n",
    "    \"\"\"\n",
    "    for i,df in enumerate(dfs):\n",
    "        # World data\n",
    "        if 'country' in df.columns:\n",
    "            df_copy = df.copy()\n",
    "            df_copy = df_copy[['country']]\n",
    "            \n",
    "            # get all columns which should be summed up. I.e. all collumns with case numbers\n",
    "            columns = [e for e in df.columns if e not in ['country']] \n",
    "            \n",
    "            # group by country and sum up the case numbers\n",
    "            df = df.groupby(by=['country'])[columns].agg('sum').reset_index() \n",
    "            \n",
    "            # merge on original list\n",
    "            df = df.merge(df_copy, left_on='country', right_on='country') \n",
    "            \n",
    "            # drop duplicated countries\n",
    "            dfs[i] = df.drop_duplicates(subset='country', keep='first') \n",
    "            \n",
    "    return dfs"
   ]
  },
  {
   "cell_type": "markdown",
   "metadata": {},
   "source": [
    "## melt_data()\n",
    "This function is the heart of the pipeline. It melts the Dataframes and calculates the new columns.\n",
    "To avoid problems with the calculation of the new daily cases (it can happen that data from one country is combined with data from another country), the DataFrames are divided per country/canton, the new data is calculated and finally merged into one DataFrame.\n",
    "\n",
    "`pandas.DataFrame.melt()` led to some problems with the John Hopkins Data (calculation of \"new_cases/fatal\" led to negativ numbers, which should not be possible). Another approach was used as a workaround."
   ]
  },
  {
   "cell_type": "code",
   "execution_count": 7,
   "metadata": {},
   "outputs": [],
   "source": [
    "def melt_data(dfs):\n",
    "    # TODO: Groupby for countries evtl. apply\n",
    "    \"\"\"\n",
    "    Melts DataFrames into format \"country\"(\"canton\"),\"date\",\"total_cases\",\"new_cases\",\"total_fatal\",\"new_fatal\"\n",
    "    :param dfs: List of Dataframes\n",
    "    :return dfs: List of Dataframes in new format\n",
    "    \"\"\"\n",
    "    label = ['cases','fatal','cases','fatal']\n",
    "    \n",
    "    for i, df in enumerate(dfs):\n",
    "        \n",
    "        # global data\n",
    "        if 'country' in df.columns:\n",
    "            df_new = None\n",
    "            for c in df.country.unique():\n",
    "                df_c = df[df['country']==c].copy()\n",
    "                \n",
    "                # transpose DataFrame\n",
    "                df_c  = df_c.T.reset_index() \n",
    "                \n",
    "                # clean dataset and rename columns\n",
    "                df_c.columns = ['date',f'total_{label[i]}']\n",
    "                df_c = df_c.drop(0)\n",
    "                \n",
    "                # calculate new columns\n",
    "                df_c[f'new_{label[i]}'] = df_c[f'total_{label[i]}'].diff() # new_cases/fatal column\n",
    "                \n",
    "                df_c['country'] = c\n",
    "                \n",
    "                if df_new is None:\n",
    "                    df_new = df_c\n",
    "                else:\n",
    "                    df_new = df_new.append(other=df_c,ignore_index=True)\n",
    "                    \n",
    "            # add new_data\n",
    "            dfs[i] = df_new\n",
    "            \n",
    "        # local data\n",
    "        else:\n",
    "            df_new = None\n",
    "            # melt dataframe\n",
    "            df = df.melt(id_vars='date',var_name='canton',value_name=f'total_{label[i]}')\n",
    "            for c in df.canton.unique():\n",
    "                df_c = df[df['canton']==c].copy()\n",
    "                \n",
    "                # calculate new columns\n",
    "                df_c[f'new_{label[i]}'] = df_c[f'total_{label[i]}'].diff() # new_cases/fatal column\n",
    "                \n",
    "                if df_new is None:\n",
    "                    df_new = df_c\n",
    "                else:\n",
    "                    df_new = df_new.append(other=df_c,ignore_index=True)\n",
    "            \n",
    "            # add new_data\n",
    "            dfs[i] = df_new\n",
    "            \n",
    "    return dfs"
   ]
  },
  {
   "cell_type": "markdown",
   "metadata": {},
   "source": [
    "## merge_data()\n",
    "This function merges the four DataFrames into df_global and df_local"
   ]
  },
  {
   "cell_type": "code",
   "execution_count": 8,
   "metadata": {},
   "outputs": [],
   "source": [
    "def merge_data(dfs):\n",
    "    \"\"\"\n",
    "    Merges prepared Dataframes into two dataframes (df_global and df_local)\n",
    "    :param dfs: List of DataFrames\n",
    "    :return df_global: DataFrame containing Covid-Data for every country\n",
    "    :return df_local: DataFrame containing Covid-Data for every canton in switzerland\n",
    "    \"\"\"\n",
    "    df_global, df_local = None, None\n",
    "    \n",
    "    for df in dfs:\n",
    "        if 'country' in df.columns:\n",
    "            if df_global is None:\n",
    "                df_global = df\n",
    "            else:\n",
    "                df_global = df_global.merge(right=df, on=['country','date'],how='left')\n",
    "        elif 'canton' in df.columns:\n",
    "            if df_local is None:\n",
    "                df_local = df\n",
    "            else:\n",
    "                df_local = df_local.merge(right=df, on=['canton','date'],how='left')\n",
    "\n",
    "    return df_global, df_local"
   ]
  },
  {
   "cell_type": "markdown",
   "metadata": {},
   "source": [
    "## covid_pipe()\n",
    "Strings all the above mentioned functions together to form a pipeline "
   ]
  },
  {
   "cell_type": "code",
   "execution_count": 9,
   "metadata": {},
   "outputs": [],
   "source": [
    "def covid_pipe():\n",
    "    \"\"\"\n",
    "    Covid-19 data pipeline\n",
    "    :return df_global: DataFrame containing total_cases, new_cases, total_fatal (fatalities), \n",
    "                       new_fatal for every day and country since tracking\n",
    "    :return df_local: DataFrame containing total_cases, new_cases, total_fatal (fatalities), \n",
    "                      new_fatal for every day and canton in switzerland since tracking\n",
    "    \"\"\"\n",
    "    dfs = get_data()\n",
    "    dfs = drop_columns(dfs)\n",
    "    dfs = rename(dfs)\n",
    "    dfs = drop_nan(dfs)\n",
    "    dfs = groupby_country(dfs)\n",
    "\n",
    "    dfs = melt_data(dfs)\n",
    "    df_global, df_local = merge_data(dfs)\n",
    "    \n",
    "    return df_global, df_local"
   ]
  },
  {
   "cell_type": "code",
   "execution_count": 10,
   "metadata": {},
   "outputs": [],
   "source": [
    "df_global, df_local = covid_pipe()"
   ]
  },
  {
   "cell_type": "markdown",
   "metadata": {},
   "source": [
    "## Output of pipeline"
   ]
  },
  {
   "cell_type": "code",
   "execution_count": 56,
   "metadata": {},
   "outputs": [
    {
     "data": {
      "text/html": [
       "<div>\n",
       "<style scoped>\n",
       "    .dataframe tbody tr th:only-of-type {\n",
       "        vertical-align: middle;\n",
       "    }\n",
       "\n",
       "    .dataframe tbody tr th {\n",
       "        vertical-align: top;\n",
       "    }\n",
       "\n",
       "    .dataframe thead th {\n",
       "        text-align: right;\n",
       "    }\n",
       "</style>\n",
       "<table border=\"1\" class=\"dataframe\">\n",
       "  <thead>\n",
       "    <tr style=\"text-align: right;\">\n",
       "      <th></th>\n",
       "      <th>date</th>\n",
       "      <th>canton</th>\n",
       "      <th>total_cases</th>\n",
       "      <th>new_cases</th>\n",
       "      <th>total_fatal</th>\n",
       "      <th>new_fatal</th>\n",
       "    </tr>\n",
       "  </thead>\n",
       "  <tbody>\n",
       "    <tr>\n",
       "      <th>0</th>\n",
       "      <td>2020-05-31</td>\n",
       "      <td>AG</td>\n",
       "      <td>0.0</td>\n",
       "      <td>NaN</td>\n",
       "      <td>0.0</td>\n",
       "      <td>NaN</td>\n",
       "    </tr>\n",
       "    <tr>\n",
       "      <th>1</th>\n",
       "      <td>2020-06-01</td>\n",
       "      <td>AG</td>\n",
       "      <td>0.0</td>\n",
       "      <td>0.0</td>\n",
       "      <td>0.0</td>\n",
       "      <td>0.0</td>\n",
       "    </tr>\n",
       "    <tr>\n",
       "      <th>2</th>\n",
       "      <td>2020-06-02</td>\n",
       "      <td>AG</td>\n",
       "      <td>0.0</td>\n",
       "      <td>0.0</td>\n",
       "      <td>0.0</td>\n",
       "      <td>0.0</td>\n",
       "    </tr>\n",
       "    <tr>\n",
       "      <th>3</th>\n",
       "      <td>2020-06-03</td>\n",
       "      <td>AG</td>\n",
       "      <td>1.0</td>\n",
       "      <td>1.0</td>\n",
       "      <td>0.0</td>\n",
       "      <td>0.0</td>\n",
       "    </tr>\n",
       "    <tr>\n",
       "      <th>4</th>\n",
       "      <td>2020-06-04</td>\n",
       "      <td>AG</td>\n",
       "      <td>3.0</td>\n",
       "      <td>2.0</td>\n",
       "      <td>0.0</td>\n",
       "      <td>0.0</td>\n",
       "    </tr>\n",
       "  </tbody>\n",
       "</table>\n",
       "</div>"
      ],
      "text/plain": [
       "         date canton  total_cases  new_cases  total_fatal  new_fatal\n",
       "0  2020-05-31     AG          0.0        NaN          0.0        NaN\n",
       "1  2020-06-01     AG          0.0        0.0          0.0        0.0\n",
       "2  2020-06-02     AG          0.0        0.0          0.0        0.0\n",
       "3  2020-06-03     AG          1.0        1.0          0.0        0.0\n",
       "4  2020-06-04     AG          3.0        2.0          0.0        0.0"
      ]
     },
     "execution_count": 56,
     "metadata": {},
     "output_type": "execute_result"
    }
   ],
   "source": [
    "df_local.head()"
   ]
  },
  {
   "cell_type": "code",
   "execution_count": 58,
   "metadata": {},
   "outputs": [
    {
     "data": {
      "text/html": [
       "<div>\n",
       "<style scoped>\n",
       "    .dataframe tbody tr th:only-of-type {\n",
       "        vertical-align: middle;\n",
       "    }\n",
       "\n",
       "    .dataframe tbody tr th {\n",
       "        vertical-align: top;\n",
       "    }\n",
       "\n",
       "    .dataframe thead th {\n",
       "        text-align: right;\n",
       "    }\n",
       "</style>\n",
       "<table border=\"1\" class=\"dataframe\">\n",
       "  <thead>\n",
       "    <tr style=\"text-align: right;\">\n",
       "      <th></th>\n",
       "      <th>date</th>\n",
       "      <th>total_cases</th>\n",
       "      <th>new_cases</th>\n",
       "      <th>country</th>\n",
       "      <th>total_fatal</th>\n",
       "      <th>new_fatal</th>\n",
       "    </tr>\n",
       "  </thead>\n",
       "  <tbody>\n",
       "    <tr>\n",
       "      <th>41077</th>\n",
       "      <td>1/23/20</td>\n",
       "      <td>0</td>\n",
       "      <td>0</td>\n",
       "      <td>Switzerland</td>\n",
       "      <td>0</td>\n",
       "      <td>0</td>\n",
       "    </tr>\n",
       "    <tr>\n",
       "      <th>41078</th>\n",
       "      <td>1/24/20</td>\n",
       "      <td>0</td>\n",
       "      <td>0</td>\n",
       "      <td>Switzerland</td>\n",
       "      <td>0</td>\n",
       "      <td>0</td>\n",
       "    </tr>\n",
       "    <tr>\n",
       "      <th>41079</th>\n",
       "      <td>1/25/20</td>\n",
       "      <td>0</td>\n",
       "      <td>0</td>\n",
       "      <td>Switzerland</td>\n",
       "      <td>0</td>\n",
       "      <td>0</td>\n",
       "    </tr>\n",
       "    <tr>\n",
       "      <th>41080</th>\n",
       "      <td>1/26/20</td>\n",
       "      <td>0</td>\n",
       "      <td>0</td>\n",
       "      <td>Switzerland</td>\n",
       "      <td>0</td>\n",
       "      <td>0</td>\n",
       "    </tr>\n",
       "    <tr>\n",
       "      <th>41081</th>\n",
       "      <td>1/27/20</td>\n",
       "      <td>0</td>\n",
       "      <td>0</td>\n",
       "      <td>Switzerland</td>\n",
       "      <td>0</td>\n",
       "      <td>0</td>\n",
       "    </tr>\n",
       "    <tr>\n",
       "      <th>...</th>\n",
       "      <td>...</td>\n",
       "      <td>...</td>\n",
       "      <td>...</td>\n",
       "      <td>...</td>\n",
       "      <td>...</td>\n",
       "      <td>...</td>\n",
       "    </tr>\n",
       "    <tr>\n",
       "      <th>41323</th>\n",
       "      <td>9/25/20</td>\n",
       "      <td>51864</td>\n",
       "      <td>372</td>\n",
       "      <td>Switzerland</td>\n",
       "      <td>2064</td>\n",
       "      <td>3</td>\n",
       "    </tr>\n",
       "    <tr>\n",
       "      <th>41324</th>\n",
       "      <td>9/26/20</td>\n",
       "      <td>51864</td>\n",
       "      <td>0</td>\n",
       "      <td>Switzerland</td>\n",
       "      <td>2064</td>\n",
       "      <td>0</td>\n",
       "    </tr>\n",
       "    <tr>\n",
       "      <th>41325</th>\n",
       "      <td>9/27/20</td>\n",
       "      <td>51864</td>\n",
       "      <td>0</td>\n",
       "      <td>Switzerland</td>\n",
       "      <td>2064</td>\n",
       "      <td>0</td>\n",
       "    </tr>\n",
       "    <tr>\n",
       "      <th>41326</th>\n",
       "      <td>9/28/20</td>\n",
       "      <td>52646</td>\n",
       "      <td>782</td>\n",
       "      <td>Switzerland</td>\n",
       "      <td>2065</td>\n",
       "      <td>1</td>\n",
       "    </tr>\n",
       "    <tr>\n",
       "      <th>41327</th>\n",
       "      <td>9/29/20</td>\n",
       "      <td>52871</td>\n",
       "      <td>225</td>\n",
       "      <td>Switzerland</td>\n",
       "      <td>2069</td>\n",
       "      <td>4</td>\n",
       "    </tr>\n",
       "  </tbody>\n",
       "</table>\n",
       "<p>251 rows × 6 columns</p>\n",
       "</div>"
      ],
      "text/plain": [
       "          date total_cases new_cases      country total_fatal new_fatal\n",
       "41077  1/23/20           0         0  Switzerland           0         0\n",
       "41078  1/24/20           0         0  Switzerland           0         0\n",
       "41079  1/25/20           0         0  Switzerland           0         0\n",
       "41080  1/26/20           0         0  Switzerland           0         0\n",
       "41081  1/27/20           0         0  Switzerland           0         0\n",
       "...        ...         ...       ...          ...         ...       ...\n",
       "41323  9/25/20       51864       372  Switzerland        2064         3\n",
       "41324  9/26/20       51864         0  Switzerland        2064         0\n",
       "41325  9/27/20       51864         0  Switzerland        2064         0\n",
       "41326  9/28/20       52646       782  Switzerland        2065         1\n",
       "41327  9/29/20       52871       225  Switzerland        2069         4\n",
       "\n",
       "[251 rows x 6 columns]"
      ]
     },
     "execution_count": 58,
     "metadata": {},
     "output_type": "execute_result"
    }
   ],
   "source": [
    "df_global[df_global['country'] == 'Switzerland'][1:]"
   ]
  },
  {
   "cell_type": "markdown",
   "metadata": {},
   "source": [
    "# ARIMA Forecast\n",
    "AutoRegressive Integrated Moving Average\n",
    "\n",
    "Target: Predict total cases per country\n",
    "Source: https://machinelearningmastery.com/arima-for-time-series-forecasting-with-python/"
   ]
  },
  {
   "cell_type": "code",
   "execution_count": 77,
   "metadata": {},
   "outputs": [
    {
     "data": {
      "image/png": "[encoded data removed]",
      "text/plain": [
       "<Figure size 432x288 with 1 Axes>"
      ]
     },
     "metadata": {
      "needs_background": "light"
     },
     "output_type": "display_data"
    }
   ],
   "source": [
    "# note that no NA is allowed\n",
    "df_ch = df_global[df_global['country'] == 'Switzerland'][1:][['date','new_cases']]\n",
    "\n",
    "df_ch = df_ch.set_index('date')\n",
    "autocorrelation_plot(df_ch)\n",
    "pyplot.show()"
   ]
  },
  {
   "cell_type": "code",
   "execution_count": 78,
   "metadata": {},
   "outputs": [],
   "source": [
    "t = np.asarray(df_ch['new_cases'])"
   ]
  },
  {
   "cell_type": "code",
   "execution_count": 79,
   "metadata": {},
   "outputs": [
    {
     "name": "stdout",
     "output_type": "stream",
     "text": [
      "                             ARIMA Model Results                              \n",
      "==============================================================================\n",
      "Dep. Variable:                    D.y   No. Observations:                  250\n",
      "Model:                ARIMA(10, 1, 0)   Log Likelihood               -1581.056\n",
      "Method:                       css-mle   S.D. of innovations            134.521\n",
      "Date:                Wed, 30 Sep 2020   AIC                           3186.113\n",
      "Time:                        18:52:23   BIC                           3228.370\n",
      "Sample:                             1   HQIC                          3203.120\n",
      "                                                                              \n",
      "==============================================================================\n",
      "                 coef    std err          z      P>|z|      [0.025      0.975]\n",
      "------------------------------------------------------------------------------\n",
      "const          0.8205      5.642      0.145      0.884     -10.238      11.879\n",
      "ar.L1.D.y     -0.6674      0.063    -10.567      0.000      -0.791      -0.544\n",
      "ar.L2.D.y     -0.3586      0.076     -4.739      0.000      -0.507      -0.210\n",
      "ar.L3.D.y     -0.3446      0.077     -4.488      0.000      -0.495      -0.194\n",
      "ar.L4.D.y     -0.0580      0.077     -0.749      0.454      -0.210       0.094\n",
      "ar.L5.D.y     -0.0177      0.078     -0.228      0.820      -0.170       0.134\n",
      "ar.L6.D.y      0.0243      0.078      0.313      0.754      -0.128       0.176\n",
      "ar.L7.D.y      0.4063      0.077      5.258      0.000       0.255       0.558\n",
      "ar.L8.D.y      0.3061      0.079      3.867      0.000       0.151       0.461\n",
      "ar.L9.D.y      0.1139      0.085      1.344      0.179      -0.052       0.280\n",
      "ar.L10.D.y     0.1056      0.074      1.434      0.152      -0.039       0.250\n",
      "                                    Roots                                     \n",
      "==============================================================================\n",
      "                   Real          Imaginary           Modulus         Frequency\n",
      "------------------------------------------------------------------------------\n",
      "AR.1             1.1501           -0.0000j            1.1501           -0.0000\n",
      "AR.2             0.6753           -0.8905j            1.1176           -0.1467\n",
      "AR.3             0.6753           +0.8905j            1.1176            0.1467\n",
      "AR.4            -1.0246           -0.5396j            1.1580           -0.4228\n",
      "AR.5            -1.0246           +0.5396j            1.1580            0.4228\n",
      "AR.6            -1.2560           -0.0000j            1.2560           -0.5000\n",
      "AR.7            -0.2313           -1.1154j            1.1391           -0.2825\n",
      "AR.8            -0.2313           +1.1154j            1.1391            0.2825\n",
      "AR.9             0.0945           -1.7340j            1.7365           -0.2413\n",
      "AR.10            0.0945           +1.7340j            1.7365            0.2413\n",
      "------------------------------------------------------------------------------\n"
     ]
    },
    {
     "data": {
      "image/png": "[encoded data removed]",
      "text/plain": [
       "<Figure size 432x288 with 1 Axes>"
      ]
     },
     "metadata": {
      "needs_background": "light"
     },
     "output_type": "display_data"
    },
    {
     "data": {
      "image/png": "[encoded data removed]",
      "text/plain": [
       "<Figure size 432x288 with 1 Axes>"
      ]
     },
     "metadata": {
      "needs_background": "light"
     },
     "output_type": "display_data"
    },
    {
     "name": "stdout",
     "output_type": "stream",
     "text": [
      "                0\n",
      "count  250.000000\n",
      "mean     0.014783\n",
      "std    134.790674\n",
      "min   -472.102745\n",
      "25%    -22.709758\n",
      "50%     -1.222673\n",
      "75%     20.029692\n",
      "max    987.015740\n"
     ]
    }
   ],
   "source": [
    "model = ARIMA(t, order=(10,1,0))\n",
    "model_fit = model.fit(disp=0)\n",
    "print(model_fit.summary())\n",
    "# plot residual errors\n",
    "residuals = pd.DataFrame(model_fit.resid)\n",
    "residuals.plot()\n",
    "pyplot.show()\n",
    "residuals.plot(kind='kde')\n",
    "pyplot.show()\n",
    "print(residuals.describe())"
   ]
  },
  {
   "cell_type": "code",
   "execution_count": 84,
   "metadata": {},
   "outputs": [
    {
     "name": "stdout",
     "output_type": "stream",
     "text": [
      "Test MSE: 28468.151\n"
     ]
    },
    {
     "data": {
      "image/png": "[encoded data removed]",
      "text/plain": [
       "<Figure size 432x288 with 1 Axes>"
      ]
     },
     "metadata": {
      "needs_background": "light"
     },
     "output_type": "display_data"
    }
   ],
   "source": [
    "t = np.asarray(df_ch['new_cases'])\n",
    "X = t\n",
    "size = int(len(X) * 0.66)\n",
    "train, test = X[0:size], X[size:len(X)]\n",
    "history = [x for x in train]\n",
    "predictions = list()\n",
    "for t in range(len(test)):\n",
    "    model = ARIMA(history, order=(10,1,0))\n",
    "    model_fit = model.fit(disp=0)\n",
    "    output = model_fit.forecast()\n",
    "    yhat = output[0]\n",
    "    predictions.append(yhat)\n",
    "    obs = test[t]\n",
    "    history.append(obs)\n",
    "    # print('predicted=%f, expected=%f' % (yhat, obs))\n",
    "error = mean_squared_error(test, predictions)\n",
    "print('Test MSE: %.3f' % error)\n",
    "# plot\n",
    "pyplot.plot(test)\n",
    "pyplot.plot(predictions, color='red')\n",
    "pyplot.show()"
   ]
  }
 ],
 "metadata": {
  "kernelspec": {
   "display_name": "Python 3",
   "language": "python",
   "name": "python3"
  },
  "language_info": {
   "codemirror_mode": {
    "name": "ipython",
    "version": 3
   },
   "file_extension": ".py",
   "mimetype": "text/x-python",
   "name": "python",
   "nbconvert_exporter": "python",
   "pygments_lexer": "ipython3",
   "version": "3.7.6"
  }
 },
 "nbformat": 4,
 "nbformat_minor": 4
}
