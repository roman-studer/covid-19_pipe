{
 "cells": [
  {
   "cell_type": "markdown",
   "metadata": {},
   "source": [
    "# MC - Covid-19 Data preparation"
   ]
  },
  {
   "cell_type": "markdown",
   "metadata": {},
   "source": [
    "Task description: https://ds-spaces.technik.fhnw.ch/app/uploads/sites/82/2020/09/minichallenge_covid19.pdf\n",
    "\n",
    "Author: Roman Janic Studer\n",
    "\n",
    "Data Pipeline Concept: https://en.wikipedia.org/wiki/Pipeline_(computing)"
   ]
  },
  {
   "cell_type": "markdown",
   "metadata": {},
   "source": [
    "## Procedure"
   ]
  },
  {
   "cell_type": "markdown",
   "metadata": {},
   "source": [
    "1. Create function for daily data pull\n",
    "2. Drop unneccesary data\n",
    "3. Clean data (tidy data principe)\n",
    "4. Prepare data for visualization (aggregation maybe)\n",
    "5. Return global and local dataframe\n",
    "6. Create visualization (plotly) for global and local data (barplots incl. moving average e. g. srf.ch or choropleth map\n",
    "7. Document process and code\n",
    "\n",
    "Steps 1 to 5 should function as a data preparation pipeline"
   ]
  },
  {
   "cell_type": "code",
   "execution_count": null,
   "metadata": {},
   "outputs": [],
   "source": [
    "# TODO Link data description\n",
    "\n",
    "# Datasource local = https://github.com/daenuprobst/covid19-cases-switzerland\n",
    "# Datasource global = https://github.com/CSSEGISandData/COVID-19\n",
    "\n",
    "# Imports\n",
    "import pandas as pd\n",
    "from datetime import date, timedelta"
   ]
  },
  {
   "cell_type": "code",
   "execution_count": null,
   "metadata": {},
   "outputs": [],
   "source": [
    "# Constants\n",
    "DROP_COLUMNS = ['FIPS','Admin2','Province_State','Recovered','Combined_Key','Incidence_Rate','Case-Fatality_Ratio']\n",
    "TODAY = date.today()\n",
    "YESTERDAY = TODAY - timedelta(1)"
   ]
  },
  {
   "cell_type": "code",
   "execution_count": null,
   "metadata": {},
   "outputs": [],
   "source": [
    "def get_data():\n",
    "    \"\"\"\n",
    "    Pulls latest data from sources\n",
    "    :return df_global: Dataframe containg current Covid-19 Data from John Hopkins University\n",
    "    :return df_CH_cases: Daily new cases in Switzerland\n",
    "    :return df_CH_fatal: Daily new fatalities in Switzerland\n",
    "    \"\"\"\n",
    "    # Get most recent data from John Hopkins\n",
    "    try:\n",
    "        df_global = pd.read_csv(f'https://raw.githubusercontent.com/CSSEGISandData/COVID-19/master/csse_covid_19_data/csse_covid_19_daily_reports/{TODAY.strftime(\"%m-%d-%Y\")}.csv')\n",
    "        \n",
    "    except:\n",
    "        df_global = pd.read_csv(f'https://raw.githubusercontent.com/CSSEGISandData/COVID-19/master/csse_covid_19_data/csse_covid_19_daily_reports/{YESTERDAY.strftime(\"%m-%d-%Y\")}.csv')\n",
    "        \n",
    "    # Get most recent data from covid19-cases-switzerland\n",
    "    df_CH_cases = pd.read_csv('https://raw.githubusercontent.com/daenuprobst/covid19-cases-switzerland/master/covid19_cases_switzerland_openzh-phase2.csv')\n",
    "    df_CH_fatal = pd.read_csv('https://raw.githubusercontent.com/daenuprobst/covid19-cases-switzerland/master/covid19_fatalities_switzerland_openzh-phase2.csv')\n",
    "    \n",
    "    return df_global, df_CH_cases, df_CH_fatal"
   ]
  },
  {
   "cell_type": "code",
   "execution_count": null,
   "metadata": {},
   "outputs": [],
   "source": [
    "df_global, df_CH_cases, df_CH_fatal = get_data()"
   ]
  },
  {
   "cell_type": "code",
   "execution_count": null,
   "metadata": {},
   "outputs": [],
   "source": [
    "df_CH_fatal.columns"
   ]
  },
  {
   "cell_type": "code",
   "execution_count": null,
   "metadata": {},
   "outputs": [],
   "source": [
    "def drop_columns(dfs, columns):\n",
    "    \"\"\"\n",
    "    Drops columns in list of dataframes if column name is in columns\n",
    "    :return dfs: List of dataframes\n",
    "    \"\"\"        "
   ]
  }
 ],
 "metadata": {
  "kernelspec": {
   "display_name": "Python 3",
   "language": "python",
   "name": "python3"
  },
  "language_info": {
   "codemirror_mode": {
    "name": "ipython",
    "version": 3
   },
   "file_extension": ".py",
   "mimetype": "text/x-python",
   "name": "python",
   "nbconvert_exporter": "python",
   "pygments_lexer": "ipython3",
   "version": "3.7.6"
  }
 },
 "nbformat": 4,
 "nbformat_minor": 4
}
