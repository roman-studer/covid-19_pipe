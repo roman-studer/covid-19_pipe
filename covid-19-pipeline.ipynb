{
 "cells": [
  {
   "cell_type": "markdown",
   "metadata": {},
   "source": [
    "# MC - Covid-19 Data preparation"
   ]
  },
  {
   "cell_type": "markdown",
   "metadata": {},
   "source": [
    "Task description: https://ds-spaces.technik.fhnw.ch/app/uploads/sites/82/2020/09/minichallenge_covid19.pdf\n",
    "\n",
    "Author: Roman Janic Studer"
   ]
  },
  {
   "cell_type": "markdown",
   "metadata": {},
   "source": [
    "## Procedure"
   ]
  },
  {
   "cell_type": "markdown",
   "metadata": {},
   "source": [
    "1. Create function for daily data pull\n",
    "2. Drop unneccesary data\n",
    "3. Clean data (tidy data principe)\n",
    "4. Prepare data for visualization (aggregation maybe)\n",
    "5. Return global and local dataframe\n",
    "6. Create visualization (plotly) for global and local data (barplots incl. moving average e. g. srf.ch or choropleth map\n",
    "7. Document process and code\n",
    "\n",
    "Steps 1 to 5 should function as a data preparation pipeline"
   ]
  },
  {
   "cell_type": "code",
   "execution_count": null,
   "metadata": {},
   "outputs": [],
   "source": [
    "# TODO Create regex function to insert current date into data link\n",
    "# TODO Link data description\n",
    "\n",
    "# Datasource local = https://github.com/daenuprobst/covid19-cases-switzerland\n",
    "# Datasource global = https://github.com/CSSEGISandData/COVID-19\n",
    "import pandas as pd\n",
    "df_global = pd.read_csv('https://raw.githubusercontent.com/CSSEGISandData/COVID-19/master/csse_covid_19_data/csse_covid_19_daily_reports/09-17-2020.csv')"
   ]
  },
  {
   "cell_type": "code",
   "execution_count": null,
   "metadata": {},
   "outputs": [],
   "source": [
    "df_global.sample(5)"
   ]
  }
 ],
 "metadata": {
  "kernelspec": {
   "display_name": "Python 3",
   "language": "python",
   "name": "python3"
  },
  "language_info": {
   "codemirror_mode": {
    "name": "ipython",
    "version": 3
   },
   "file_extension": ".py",
   "mimetype": "text/x-python",
   "name": "python",
   "nbconvert_exporter": "python",
   "pygments_lexer": "ipython3",
   "version": "3.7.6"
  }
 },
 "nbformat": 4,
 "nbformat_minor": 4
}
